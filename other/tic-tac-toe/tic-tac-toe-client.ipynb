{
 "cells": [
  {
   "cell_type": "code",
   "execution_count": null,
   "id": "43b40942",
   "metadata": {},
   "outputs": [],
   "source": [
    "# Import necessary modules and libraries\n",
    "import socket # For TCP networking\n",
    "import sys # For adding command line arguments\n",
    "import time # For the sleep() function\n",
    "\n",
    "\n",
    "# Constants\n",
    "SERVER_ADDRESS = 'localhost' # Server to be connected address\n",
    "SERVER_PORT = int(sys.argv[1]) # Server to be connected port\n",
    "\n",
    "\n",
    "# Functions\n",
    "def recvall(socket):\n",
    "    # Returns all available data from connection as str\n",
    "    data = b''\n",
    "    while True:\n",
    "        temp = socket.recv(4096)\n",
    "        data += temp\n",
    "        if len(temp) < 4096:\n",
    "            break\n",
    "    data = data.decode()\n",
    "    return data\n",
    "\n",
    "\n",
    "# ----- START -----\n",
    "# Server connection and client setup\n",
    "# Create the socket\n",
    "socket = socket.socket(socket.AF_INET, socket.SOCK_STREAM)\n",
    "# Connect to the server\n",
    "socket.connect((SERVER_ADDRESS, SERVER_PORT))\n",
    "# First enter\n",
    "data = recvall(socket)\n",
    "print(data)\n",
    "# Main loop\n",
    "while True:\n",
    "    data = recvall(socket)\n",
    "    print(data)\n",
    "    move = input('\\n\\nInput a move or press ENTER to refresh.')\n",
    "    if move == '':\n",
    "        move = 'NOP'\n",
    "    socket.sendall(move.encode())\n",
    "    time.sleep(0.5)"
   ]
  },
  {
   "cell_type": "code",
   "execution_count": null,
   "id": "5e75d5cf",
   "metadata": {},
   "outputs": [],
   "source": []
  }
 ],
 "metadata": {
  "kernelspec": {
   "display_name": "Python 3 (ipykernel)",
   "language": "python",
   "name": "python3"
  },
  "language_info": {
   "codemirror_mode": {
    "name": "ipython",
    "version": 3
   },
   "file_extension": ".py",
   "mimetype": "text/x-python",
   "name": "python",
   "nbconvert_exporter": "python",
   "pygments_lexer": "ipython3",
   "version": "3.10.8"
  }
 },
 "nbformat": 4,
 "nbformat_minor": 5
}
